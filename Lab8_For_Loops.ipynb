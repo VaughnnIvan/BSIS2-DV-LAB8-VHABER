{
  "nbformat": 4,
  "nbformat_minor": 0,
  "metadata": {
    "colab": {
      "provenance": [],
      "authorship_tag": "ABX9TyNSufxsh4wIEKF0ZlTPJNVz",
      "include_colab_link": true
    },
    "kernelspec": {
      "name": "python3",
      "display_name": "Python 3"
    },
    "language_info": {
      "name": "python"
    }
  },
  "cells": [
    {
      "cell_type": "markdown",
      "metadata": {
        "id": "view-in-github",
        "colab_type": "text"
      },
      "source": [
        "<a href=\"https://colab.research.google.com/github/VaughnnIvan/BSIS2-DV-LAB8-VHABER/blob/main/Lab8_For_Loops.ipynb\" target=\"_parent\"><img src=\"https://colab.research.google.com/assets/colab-badge.svg\" alt=\"Open In Colab\"/></a>"
      ]
    },
    {
      "cell_type": "code",
      "execution_count": 1,
      "metadata": {
        "colab": {
          "base_uri": "https://localhost:8080/"
        },
        "id": "PkawjL1QKGgd",
        "outputId": "a89d073c-840c-4f50-92c9-4c89f75b9a9a"
      },
      "outputs": [
        {
          "output_type": "stream",
          "name": "stdout",
          "text": [
            "V\n",
            "a\n",
            "u\n",
            "g\n",
            "h\n",
            "n\n",
            " \n",
            "I\n",
            "v\n",
            "a\n",
            "n\n"
          ]
        }
      ],
      "source": [
        "myName=\"Vaughn Ivan\"\n",
        "for x in myName:\n",
        "  print(x)"
      ]
    },
    {
      "cell_type": "code",
      "source": [
        "Range=(11)\n",
        "for x in range(11):\n",
        "   print(x)\n",
        "else:\n",
        "   print(\"Finally finished!\")"
      ],
      "metadata": {
        "colab": {
          "base_uri": "https://localhost:8080/"
        },
        "id": "2VTRDWlWKiM8",
        "outputId": "a42d6f60-dd8f-432a-cb2e-178af58341ce"
      },
      "execution_count": 2,
      "outputs": [
        {
          "output_type": "stream",
          "name": "stdout",
          "text": [
            "0\n",
            "1\n",
            "2\n",
            "3\n",
            "4\n",
            "5\n",
            "6\n",
            "7\n",
            "8\n",
            "9\n",
            "10\n",
            "Finally finished!\n"
          ]
        }
      ]
    },
    {
      "cell_type": "code",
      "source": [
        "thislist=[\"Mooncrest Pie\",\"Tianshu Meat\",\"Adeptus' Temptation\"]\n",
        "for x in thislist:\n",
        "  print(x)"
      ],
      "metadata": {
        "colab": {
          "base_uri": "https://localhost:8080/"
        },
        "id": "LE5GnT4SKsPa",
        "outputId": "80bc43ec-6f77-4050-b92d-7b40f6fb09ed"
      },
      "execution_count": 3,
      "outputs": [
        {
          "output_type": "stream",
          "name": "stdout",
          "text": [
            "Mooncrest Pie\n",
            "Tianshu Meat\n",
            "Adeptus' Temptation\n"
          ]
        }
      ]
    },
    {
      "cell_type": "code",
      "source": [
        "list(range(0,15))"
      ],
      "metadata": {
        "colab": {
          "base_uri": "https://localhost:8080/"
        },
        "id": "SFT84cWtK3ks",
        "outputId": "8dbe72db-8464-4894-9996-28836c486fe1"
      },
      "execution_count": 4,
      "outputs": [
        {
          "output_type": "execute_result",
          "data": {
            "text/plain": [
              "[0, 1, 2, 3, 4, 5, 6, 7, 8, 9, 10, 11, 12, 13, 14]"
            ]
          },
          "metadata": {},
          "execution_count": 4
        }
      ]
    },
    {
      "cell_type": "code",
      "source": [
        "clans=['Lawrence','Gunnhildr','Ragvindr']\n",
        "for i in range(len(clans)):\n",
        "  print(clans[i])"
      ],
      "metadata": {
        "colab": {
          "base_uri": "https://localhost:8080/"
        },
        "id": "jAoaV0T8OC2b",
        "outputId": "138bcebe-8100-49d2-e34b-e9d739a0a0d6"
      },
      "execution_count": 5,
      "outputs": [
        {
          "output_type": "stream",
          "name": "stdout",
          "text": [
            "Lawrence\n",
            "Gunnhildr\n",
            "Ragvindr\n"
          ]
        }
      ]
    }
  ]
}